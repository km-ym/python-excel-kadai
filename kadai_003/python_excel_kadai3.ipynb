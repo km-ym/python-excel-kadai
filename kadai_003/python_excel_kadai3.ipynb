{
  "nbformat": 4,
  "nbformat_minor": 0,
  "metadata": {
    "colab": {
      "provenance": []
    },
    "kernelspec": {
      "name": "python3",
      "display_name": "Python 3"
    },
    "language_info": {
      "name": "python"
    }
  },
  "cells": [
    {
      "cell_type": "code",
      "execution_count": 23,
      "metadata": {
        "colab": {
          "base_uri": "https://localhost:8080/"
        },
        "id": "LeXuuI99Ftka",
        "outputId": "cd72a2af-b614-4b13-d59d-f307be679fe3"
      },
      "outputs": [
        {
          "output_type": "stream",
          "name": "stdout",
          "text": [
            "     売上年        商品  金額（千円）\n",
            "0   2022        紅茶    1200\n",
            "1   2022      ハチミツ    1000\n",
            "2   2022      セッケン    1300\n",
            "3   2022        紅茶     800\n",
            "4   2022  アロマキャンドル     900\n",
            "5   2022      ハチミツ     300\n",
            "6   2022      ハチミツ     560\n",
            "7   2022    ワイングラス     850\n",
            "8   2022  アロマキャンドル     810\n",
            "9   2022        包丁     940\n",
            "10  2022        水筒    1150\n",
            "11  2023        紅茶    1200\n",
            "12  2023      ハチミツ    1000\n",
            "13  2023        水筒     250\n",
            "14  2023     コーヒー豆     860\n",
            "15  2023      セッケン    1300\n",
            "16  2023        紅茶     670\n",
            "17  2023  アロマキャンドル     900\n",
            "18  2023    ワイングラス     850\n",
            "19  2023        包丁     940\n",
            "20  2023     フライパン     670\n",
            "21  2023        水筒    1150\n"
          ]
        }
      ],
      "source": [
        "import openpyxl\n",
        "from openpyxl.styles import PatternFill\n",
        "import pandas as pd\n",
        "\n",
        "file_list = ['2022_年間売上表.xlsx', '2023_年間売上表.xlsx']\n",
        "df = pd.DataFrame()\n",
        "\n",
        "for file_name in file_list:\n",
        "  temp_df = pd.read_excel(file_name)\n",
        "  df = pd.concat([df,temp_df], ignore_index=True)\n",
        "\n",
        "print(df)\n",
        "\n",
        "grouped = df.groupby(['商品', '売上年']).agg({'金額（千円）':'sum'})\n",
        "writer = pd.ExcelWriter('売上集計表.xlsx')\n",
        "grouped.to_excel(writer, sheet_name=\"売上表\", index=True)\n",
        "writer.close()\n",
        "\n",
        "wb = openpyxl.load_workbook('売上集計表.xlsx')\n",
        "ws = wb.active\n",
        "fill = PatternFill(patternType='solid', fgColor='F2F2F2')\n",
        "for i in range(0, 3):\n",
        "  ws.cell(row=1, column=1+i).fill = fill\n",
        "wb.save('売上集計表.xlsx')\n"
      ]
    },
    {
      "cell_type": "code",
      "source": [],
      "metadata": {
        "id": "vWTbe7xnM1Xh"
      },
      "execution_count": null,
      "outputs": []
    },
    {
      "cell_type": "code",
      "source": [],
      "metadata": {
        "id": "XL9D8W1sI8Bb"
      },
      "execution_count": null,
      "outputs": []
    }
  ]
}