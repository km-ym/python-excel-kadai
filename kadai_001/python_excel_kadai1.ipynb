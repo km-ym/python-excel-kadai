{
  "nbformat": 4,
  "nbformat_minor": 0,
  "metadata": {
    "colab": {
      "provenance": []
    },
    "kernelspec": {
      "name": "python3",
      "display_name": "Python 3"
    },
    "language_info": {
      "name": "python"
    }
  },
  "cells": [
    {
      "cell_type": "code",
      "execution_count": 1,
      "metadata": {
        "colab": {
          "base_uri": "https://localhost:8080/"
        },
        "id": "l5Vh55l2Ioji",
        "outputId": "b288796f-a65d-4453-9959-c3ba93475848"
      },
      "outputs": [
        {
          "output_type": "stream",
          "name": "stdout",
          "text": [
            "Collecting openpyxl==3.0.10\n",
            "  Downloading openpyxl-3.0.10-py2.py3-none-any.whl.metadata (2.4 kB)\n",
            "Requirement already satisfied: et-xmlfile in /usr/local/lib/python3.10/dist-packages (from openpyxl==3.0.10) (2.0.0)\n",
            "Downloading openpyxl-3.0.10-py2.py3-none-any.whl (242 kB)\n",
            "\u001b[2K   \u001b[90m━━━━━━━━━━━━━━━━━━━━━━━━━━━━━━━━━━━━━━━━\u001b[0m \u001b[32m242.1/242.1 kB\u001b[0m \u001b[31m5.2 MB/s\u001b[0m eta \u001b[36m0:00:00\u001b[0m\n",
            "\u001b[?25hInstalling collected packages: openpyxl\n",
            "  Attempting uninstall: openpyxl\n",
            "    Found existing installation: openpyxl 3.1.5\n",
            "    Uninstalling openpyxl-3.1.5:\n",
            "      Successfully uninstalled openpyxl-3.1.5\n",
            "Successfully installed openpyxl-3.0.10\n"
          ]
        }
      ],
      "source": [
        "pip install openpyxl==3.0.10"
      ]
    },
    {
      "cell_type": "code",
      "source": [
        "import openpyxl\n",
        "from datetime import datetime\n",
        "\n",
        "wb = openpyxl.Workbook()\n",
        "ws = wb.active\n",
        "\n",
        "# タイトル\n",
        "ws[\"A2\"].value = \"請求書\"\n",
        "\n",
        "company_data = [\n",
        "    \"株式会社ABC\",\n",
        "    \"〒101-0022 東京都千代田区神田練塀町300\",\n",
        "    \"TEL:03-1234-5678 FAX:03-1234-5678\",\n",
        "    \"担当者名:鈴木一郎 様\"\n",
        "]\n",
        "\n",
        "for i in range(len(company_data)):\n",
        "  ws.cell(row=i+4, column=1, value=f\"{company_data[i]}\")\n",
        "\n",
        "# ヘッダー\n",
        "ws[\"E4\"].value = \"No.\"\n",
        "ws[\"E5\"].value = \"日付\"\n",
        "ws[\"F4\"].value = \"0001\"\n",
        "today = datetime.today()\n",
        "ws[\"F5\"].value = f\"{today.strftime('%Y/%m/%d')}\"\n",
        "\n",
        "# 商品の項目\n",
        "item = [\"商品名\", \"数量\", \"単価\", \"金額\"]\n",
        "for i in range(len(item)):\n",
        "  ws.cell(row=10, column=i+1, value=f\"{item[i]}\")\n",
        "\n",
        "item_data = [\n",
        "    [\"商品A\", 2, 10000, 20000],\n",
        "    [\"商品B\", 1, 15000, 15000]\n",
        "]\n",
        "\n",
        "for row in item_data:\n",
        "  ws.append(row)\n",
        "\n",
        "# 小計、消費税、合計の計算\n",
        "subtotal = 0\n",
        "for row in data:\n",
        "  subtotal += row[-1]\n",
        "tax = subtotal * 0.1\n",
        "total = subtotal + tax\n",
        "\n",
        "last_row = ws.max_row\n",
        "ws[f\"D{last_row+1}\"].value = subtotal\n",
        "ws[f\"D{last_row+3}\"].value = subtotal\n",
        "ws[f\"D{last_row+4}\"].value = tax\n",
        "ws[f\"D{last_row+5}\"].value = total\n",
        "\n",
        "summary = [\"合計\", \"消費税\", \"税込金額\"]\n",
        "for i in range(len(summary)):\n",
        "  ws.cell(row=i+15, column=1, value=f\"{summary[i]}\")\n",
        "\n",
        "ws.insert_cols(1,1)\n",
        "wb.save(f\"請求書_{today.strftime('%Y%m%d')}.xlsx\")\n",
        ""
      ],
      "metadata": {
        "id": "dsCV5aDGI5nU"
      },
      "execution_count": 54,
      "outputs": []
    },
    {
      "cell_type": "code",
      "source": [],
      "metadata": {
        "id": "spPo5NJpeQ-Q"
      },
      "execution_count": null,
      "outputs": []
    }
  ]
}